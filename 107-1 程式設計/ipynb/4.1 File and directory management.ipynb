{
  "cells": [
    {
      "metadata": {
        "collapsed": true
      },
      "cell_type": "markdown",
      "source": "### 4.1 檔案和目錄管理 / File and directory management // Manajemen file dan direktori\n\n#### 4.1.1 os\n\nos 提供建立目錄、刪除目錄、刪除檔案、執行作業系統命令等方法，使用時必須匯入os 套件。\n\n/ os provides methods for creating directories, deleting directories, deleting files, executing operating system commands, etc., and must be imported into the os suite.\n\n// os menyediakan metode untuk membuat direktori, menghapus direktori, menghapus file, menjalankan perintah sistem operasi, dll., dan harus diimpor ke dalam os suite.\n\n##### remove() 方法 /remove() method //remove() metode\n\n刪除指定的檔案，一般都會配合 os.path 的 exists() 方法，先檢查該檔案是否存在，再決定是否要刪除檔案。\n\n/ Deleting the specified file will generally match the exists() method of os.path, first check if the file exists, and then decide whether to delete the file.\n\n// Menghapus file yang ditentukan biasanya akan cocok dengan metode exist () os.path, pertama periksa apakah file tersebut ada, dan kemudian putuskan apakah akan menghapus file tersebut.\n"
    },
    {
      "metadata": {
        "trusted": true
      },
      "cell_type": "code",
      "source": "import os\n\nfile = \"myFile.txt\"\n\nif os.path.exists(file):\n    os.remove(file)\nelse:\n    print(file + \"檔案未建立!\")   \n    ",
      "execution_count": null,
      "outputs": []
    },
    {
      "metadata": {},
      "cell_type": "markdown",
      "source": "##### mkdir() 方法 /mkdir() method //mkdir() metode\n\n利用 mkdir() 方法可以建立指定的目錄。\n\n/ The specified directory can be created using the mkdir() method.\n\n// Direktori yang ditentukan dapat dibuat menggunakan metode mkdir ().\n"
    },
    {
      "metadata": {
        "trusted": true
      },
      "cell_type": "code",
      "source": "import os\n\ndir = \"myDir\"\n\nif not os.path.exists(dir):\n    os.mkdir(dir)\nelse:\n    print(dir + \"已經建立!\")   \n ",
      "execution_count": null,
      "outputs": []
    },
    {
      "metadata": {},
      "cell_type": "markdown",
      "source": "##### rmdir() 方法 / rmdir() method // rmdir() metode\n\nrmdir() 方法可以刪除指定的目錄，刪除目錄前必須先刪除該目錄的檔案。一般都會先檢查該目錄是否已經建立，再決定是否要刪除目錄。\n\n/ The rmdir() method can delete the specified directory. Before deleting the directory, you must delete the file of the directory. Generally, it is checked whether the directory has been created before deciding whether to delete the directory.\n\n// Metode rmdir () dapat menghapus direktori yang ditentukan. Sebelum menghapus direktori, Anda harus menghapus file direktori. Umumnya, ini diperiksa apakah direktori telah dibuat sebelum memutuskan apakah akan menghapus direktori.\n"
    },
    {
      "metadata": {
        "trusted": true
      },
      "cell_type": "code",
      "source": "import os\n\ndir = \"myDir\"\n\nif os.path.exists(dir):\n    os.rmdir(dir)\nelse:\n    print(dir + \"目錄未建立!\")  \n ",
      "execution_count": null,
      "outputs": []
    },
    {
      "metadata": {},
      "cell_type": "markdown",
      "source": "##### system() 方法 / system() method // system() metode\n\n執行作業系統命令。\n\n/ Execute the operating system command.\n\n// Jalankan perintah sistem operasi.\n\n例如：清除螢幕、建立 dir2 目錄、複製 <ossystem.py> 到 dir2 目錄中，檔名為 <copyfile.py>， 最後以記事本開啟 <copyfile.py> 檔。\n\n/ For example: clear the screen, create the dir2 directory, copy <ossystem.py> to the dir2 directory, the file name is <copyfile.py>, and finally open the <copyfile.py> file with Notepad.\n\n// Sebagai contoh: bersihkan layar, buat direktori dir2, salin <ossystem.py> ke direktori dir2, nama file adalah <copyfile.py>, dan akhirnya buka file <copyfile.py> dengan Notepad.\n"
    },
    {
      "metadata": {
        "trusted": true
      },
      "cell_type": "code",
      "source": "import os\n\ncur_path = os.path.dirname(__file__) # 取得目前路徑  \nos.system(\"cls\")  # 清除螢幕\nos.system(\"mkdir dir2\")  # 建立 dir2 目錄\nos.system(\"copy ossystem.py dir2\\copyfile.py\") # 複製檔案 \nfile = cur_path + \"\\dir2\\copyfile.py\" \nos.system(\"notepad \" + file)  # 以記事本開啟 copyfile.py 檔\n",
      "execution_count": null,
      "outputs": []
    },
    {
      "metadata": {},
      "cell_type": "markdown",
      "source": "#### 4.1.2 os.path\n\nos.path 用以處理檔案路徑和名稱，檢查檔案或路徑是否存在，也可以計算檔案的大小。首先必須匯入os.path 套件\n\n/ os.path is used to process the file path and name, check the existence of the file or path, and calculate the size of the file. First you must import the os.path package\n\n// os.path digunakan untuk memproses path dan nama file, memeriksa keberadaan file atau path, dan menghitung ukuran file. Pertama Anda harus mengimpor paket os.path\n\nos.path 提供下列的方法：\n\n/ os.path provides the following methods:\n\n// os.path menyediakan metode berikut:\n\n![](https://github.com/ycwang812/UCH/blob/master/107-1_程式設計/images/pic1.png?raw=true)\n<br/>\n![](https://github.com/ycwang812/UCH/blob/master/107-1_程式設計/images/pic2.png?raw=true)\n<br/>\n![](https://github.com/ycwang812/UCH/blob/master/107-1_程式設計/images/pic3.png?raw=true)\n<br/>\n![](https://github.com/ycwang812/UCH/blob/master/107-1_程式設計/images/pic4.png?raw=true)\n<br/>\n\n例如：取得目前路徑、完整路徑名稱、檔案大小、最後的檔案或路徑名稱、偵測是否為目錄、將路徑分解為路徑和檔名、取得磁碟機名稱等。\n\n/ For example: get the current path, full path name, file size, last file or path name, detect whether it is a directory, break the path into path and file name, get the name of the drive, and so on.\n\n// Sebagai contoh: dapatkan jalur saat ini, nama path lengkap, ukuran file, file terakhir atau nama path, mendeteksi apakah itu direktori, memutuskan path ke path dan nama file, mendapatkan nama drive, dan seterusnya."
    },
    {
      "metadata": {
        "trusted": true
      },
      "cell_type": "code",
      "source": "import os.path\n\ncur_path = os.path.dirname(__file__) # 取得目前目錄路徑\n\nprint(\"現在目錄路徑：\" + cur_path)\n\nfilename = os.path.abspath(\"ospath.py\")\n\nif os.path.exists(filename):\n    print(\"完整路徑名稱：\" + filename)\n    print(\"檔案大小：\" , os.path.getsize)\n    \n    basename = os.path.basename(filename)\n    print(\"最後的檔案或路徑名稱：\" + basename)\n    \n    dirname = os.path.dirname(filename)\n    print(\"目前檔案目錄路徑：\" + dirname) \n    \n    print(\"是否為目錄：\", os.path.isdir(filename))\n    \n    fullpath,fname = os.path.split(filename)\n    print(\"目錄路徑：\" + fullpath)\n    print(\"檔名：\" + fname)\n    \n    Drive,fpath = os.path.splitdrive(filename)\n    print(\"磁碟機：\" + Drive)\n    print(\"路徑名稱：\" + fpath)   \n    \n    fullpath = os.path.join(fullpath + \"\\\\\" + fname)\n    print(\"組合路徑= \" + fullpath)\n    ",
      "execution_count": null,
      "outputs": []
    },
    {
      "metadata": {},
      "cell_type": "markdown",
      "source": "#### 4.1.3 os.walk\n\n為了方便說明，本範例檔刻意放在本章的 oswalk 目錄下，該目錄包含了 Dir 目錄和 oswalk.py、oswalk1.txt 檔， 並在 Dir 目錄下又建立了SubDir 目錄和 Dir1.txt、Dir2.txt 檔，同時在 SubDir 目錄也建立了檔案 SubDir1.txt 檔。架構如下：\n    \n/ For convenience of explanation, this sample file is deliberately placed in the oswalk directory of this chapter. This directory contains the Dir directory and the oswalk.py, oswalk1.txt files, and is created in the Dir directory. SubDir directory and Dir1.txt, Dir2.txt files, and file SubDir1.txt file is also created in the SubDir directory. The architecture is as follows:\n    \n// Untuk memudahkan penjelasan, file contoh ini sengaja ditempatkan di direktori oswalk pada bab ini. Direktori ini berisi direktori Dir dan file oswalk.py, oswalk1.txt, dan dibuat di direktori Dir. File SubDir dan file Dir1.txt, Dir2.txt, dan file SubDir1.txt juga dibuat di direktori SubDir. Arsitekturnya adalah sebagai berikut:\n\n![](https://github.com/ycwang812/UCH/blob/master/107-1_程式設計/images/pic5.png?raw=true)\n"
    },
    {
      "metadata": {
        "trusted": true
      },
      "cell_type": "code",
      "source": "import os\n\ncur_path = os.path.dirname(__file__) # 取得目前路徑\nsample_tree = os.walk(cur_path)\n\nfor dirname, subdir, files in sample_tree:\n    print(\"檔案路徑：\", dirname)\n    print(\"目錄串列：\" , subdir)   \n    print(\"檔案串列：\", files)\n    print()\n    ",
      "execution_count": null,
      "outputs": []
    },
    {
      "metadata": {},
      "cell_type": "markdown",
      "source": "#### 4.1.4 shutil\n\n常用的方法如下：\n\n/ The commonly used methods are as follows:\n\n// Metode yang umum digunakan adalah sebagai berikut:\n\n![](https://github.com/ycwang812/UCH/blob/master/107-1_程式設計/images/pic6.png?raw=true)\n<br/>\n![](https://github.com/ycwang812/UCH/blob/master/107-1_程式設計/images/pic7.png?raw=true)\n<br/>\n\n例如：複製 <shutil.py> 為 <newfile.py> 檔。\n\n/ For example: Copy <shutil.py> to the <newfile.py> file.\n\n// Sebagai contoh: Salin <shutil.py> ke file <newfile.py>.\n"
    },
    {
      "metadata": {
        "trusted": true
      },
      "cell_type": "code",
      "source": "import os, shutil\n\ncur_path = os.path.dirname(__file__) # 取得目前路徑\ndestfile = cur_path + \"\\\\\" + \"newfile.py\"\nshutil.copy(\"shutil.py\", destfile )  # 檔案複製\n",
      "execution_count": null,
      "outputs": []
    },
    {
      "metadata": {},
      "cell_type": "markdown",
      "source": "#### 4.1.5 glob\n\n語法： / grammar: // tatabahasa:\n\nglob.glob(pathname)\n\n路徑名稱可以明確指定檔案名稱，也可使用「 * 」萬用字元。\n\n/ The path name can be specified with the file name explicitly, or the \"\\*\" universal character can be used.\n\n// Nama jalan dapat ditentukan dengan nama file secara eksplisit, atau karakter universal \"\\*\" dapat digunakan.\n\n例如：取得<glob.py> 檔、檔名前兩個字元是 os 開頭的所有 py 檔案以及所有副檔名為 txt 的檔案 。\n\n/ For example: Get the glob.py file, the first two characters of the file name are all py files starting with os and all files with the file name txt.\n\n// Sebagai contoh: Dapatkan file glob.py, dua karakter pertama dari nama file adalah file py yang dimulai dengan os dan semua file dengan nama file txt.\n",
      "attachments": {}
    },
    {
      "metadata": {
        "trusted": true
      },
      "cell_type": "code",
      "source": "import glob\n\nfiles = glob.glob(\"glob.py\") + glob.glob(\"os*.py\") + glob.glob(\"*.txt\") \n\nfor file in files:\n    print(file)\n    ",
      "execution_count": null,
      "outputs": []
    }
  ],
  "metadata": {
    "kernelspec": {
      "name": "python36",
      "display_name": "Python 3.6",
      "language": "python"
    },
    "language_info": {
      "mimetype": "text/x-python",
      "nbconvert_exporter": "python",
      "name": "python",
      "pygments_lexer": "ipython3",
      "version": "3.6.6",
      "file_extension": ".py",
      "codemirror_mode": {
        "version": 3,
        "name": "ipython"
      }
    }
  },
  "nbformat": 4,
  "nbformat_minor": 2
}