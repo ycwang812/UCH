{
  "cells": [
    {
      "metadata": {
        "collapsed": true
      },
      "cell_type": "markdown",
      "source": "# 檔案處理與SQLite資料庫\n# / File Processing and SQLite Database\n# // Pemrosesan File dan Basis Data SQLite",
      "attachments": {}
    },
    {
      "metadata": {},
      "cell_type": "markdown",
      "source": "# / File Processing and SQLite Database"
    },
    {
      "metadata": {},
      "cell_type": "markdown",
      "source": "# // Pemrosesan File dan Basis Data SQLite"
    },
    {
      "metadata": {},
      "cell_type": "markdown",
      "source": "Python 能夠大量快速的處理電腦系統中的檔案與資料夾，除了使用 os 套件進行目錄建立與刪除目錄、檔案刪除、執行作業系統命令等動作，也可以利用Python內建的open() 函式開啟指定的檔案，並進行檔案內容的讀取、寫入或修改。\n\n/ Python can quickly and easily process files and folders in a computer system. In addition to using the os suite for directory creation and deletion of directories, file deletion, execution of system commands, etc., you can also use Python's built-in open() function to enable designation. File, and read, write or modify the contents of the file."
    }
  ],
  "metadata": {
    "kernelspec": {
      "name": "python36",
      "display_name": "Python 3.6",
      "language": "python"
    },
    "language_info": {
      "mimetype": "text/x-python",
      "nbconvert_exporter": "python",
      "name": "python",
      "pygments_lexer": "ipython3",
      "version": "3.6.6",
      "file_extension": ".py",
      "codemirror_mode": {
        "version": 3,
        "name": "ipython"
      }
    }
  },
  "nbformat": 4,
  "nbformat_minor": 2
}